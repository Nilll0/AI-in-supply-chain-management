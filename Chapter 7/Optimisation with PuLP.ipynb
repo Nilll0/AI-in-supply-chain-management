{
 "cells": [
  {
   "cell_type": "markdown",
   "metadata": {},
   "source": [
    "# Getting Familiar with PuLP"
   ]
  },
  {
   "cell_type": "code",
   "execution_count": 1,
   "metadata": {},
   "outputs": [],
   "source": [
    "# Import PuLP modeler functions\n",
    "from pulp import *"
   ]
  },
  {
   "cell_type": "code",
   "execution_count": 2,
   "metadata": {},
   "outputs": [],
   "source": [
    "# Initialize class\n",
    "prob = LpProblem(\"LPexample\", LpMaximize)"
   ]
  },
  {
   "cell_type": "code",
   "execution_count": 3,
   "metadata": {},
   "outputs": [],
   "source": [
    "# Define variables\n",
    "x = LpVariable('x', lowBound=30, cat='Continuous')\n",
    "y = LpVariable('y', None, cat='Continuous')"
   ]
  },
  {
   "cell_type": "code",
   "execution_count": 4,
   "metadata": {},
   "outputs": [],
   "source": [
    "# Define Objective Function\n",
    "prob += 5*x + 7*y, \"Z\""
   ]
  },
  {
   "cell_type": "code",
   "execution_count": 5,
   "metadata": {},
   "outputs": [],
   "source": [
    "# Define Constraints\n",
    "prob += 4*y <= 10 + x\n",
    "prob += 2*y + 3*x <= 200"
   ]
  },
  {
   "cell_type": "code",
   "execution_count": 6,
   "metadata": {},
   "outputs": [
    {
     "data": {
      "text/plain": [
       "LPexample:\n",
       "MAXIMIZE\n",
       "5*x + 7*y + 0\n",
       "SUBJECT TO\n",
       "_C1: - x + 4 y <= 10\n",
       "\n",
       "_C2: 3 x + 2 y <= 200\n",
       "\n",
       "VARIABLES\n",
       "30 <= x Continuous\n",
       "y free Continuous"
      ]
     },
     "execution_count": 6,
     "metadata": {},
     "output_type": "execute_result"
    }
   ],
   "source": [
    "# Check the newly created problem\n",
    "prob"
   ]
  },
  {
   "cell_type": "code",
   "execution_count": 7,
   "metadata": {},
   "outputs": [
    {
     "data": {
      "text/plain": [
       "'Optimal'"
      ]
     },
     "execution_count": 7,
     "metadata": {},
     "output_type": "execute_result"
    }
   ],
   "source": [
    "# The problem is solved using PuLP's choice of Solver\n",
    "prob.solve()\n",
    "# The status of the solution \n",
    "LpStatus[prob.status]"
   ]
  },
  {
   "cell_type": "code",
   "execution_count": 8,
   "metadata": {},
   "outputs": [
    {
     "name": "stdout",
     "output_type": "stream",
     "text": [
      "x = 55.714286\n",
      "y = 16.428571\n"
     ]
    }
   ],
   "source": [
    "# Each of the variables is printed with it's resolved optimum value\n",
    "for v in prob.variables():\n",
    "    print(v.name, \"=\", v.varValue)"
   ]
  },
  {
   "cell_type": "code",
   "execution_count": 9,
   "metadata": {},
   "outputs": [
    {
     "name": "stdout",
     "output_type": "stream",
     "text": [
      "The maximized value can be = 393.571427\n"
     ]
    }
   ],
   "source": [
    "# Print the optimized solution\n",
    "print(\"The maximized value can be =\", value(prob.objective))"
   ]
  },
  {
   "cell_type": "markdown",
   "metadata": {},
   "source": [
    "**Exercise 1:** You are managing a small warehouse with a total effective storage size of 900 cubic meters. You have the option to sell 8 different products online, A, B, C, D, E, F, G, and H, each with unique size and profit as is detailed in the table below. Your task is to maximize your profit while considering what to stock and how many to stock for each item (note: ignore the demand for each item).\n",
    "\n",
    "Conditions: \n",
    "- Product A and B  are similar with minor variations, you should at least store either item A or B to satisfy your long-term customers\n",
    "- Product G and H are sold in pairs, i.e. if Product G is selected, then product H must also be selected.\n",
    "            \n",
    "\n",
    "\n",
    "|Item|Size | Profit|\n",
    "| --- | --- |--- |\n",
    "|A    |3      |240|\n",
    "|B    |3      |245|\n",
    "|C    |4      |250|\n",
    "|D    |5      |410|\n",
    "|E    |3.5    |300|\n",
    "|F    |4      |150|\n",
    "|G    |2      |140|\n",
    "|H    |1      |100|"
   ]
  },
  {
   "cell_type": "code",
   "execution_count": 10,
   "metadata": {},
   "outputs": [],
   "source": [
    "# Create a list of items\n",
    "item = ['A', 'B', 'C', 'D', 'E', 'F', 'G', 'H']\n",
    "\n",
    "# Create a dictionary of the size of each item\n",
    "size = {'A':3, 'B':3, 'C':4,'D':5, 'E':3.5, 'F':4, 'G':2, 'H':1}\n",
    "\n",
    "# Creat a dictionary of the profit of each item\n",
    "prof = {'A':240, 'B':245, 'C':250,'D':410, \n",
    "        'E':300, 'F':150, 'G':140, 'H':100}"
   ]
  },
  {
   "cell_type": "code",
   "execution_count": 11,
   "metadata": {},
   "outputs": [],
   "source": [
    "# Initialize the problem model \n",
    "model = LpProblem(\"warehousing\", LpMaximize)"
   ]
  },
  {
   "cell_type": "code",
   "execution_count": 12,
   "metadata": {},
   "outputs": [
    {
     "data": {
      "text/plain": [
       "{'A': stock__A,\n",
       " 'B': stock__B,\n",
       " 'C': stock__C,\n",
       " 'D': stock__D,\n",
       " 'E': stock__E,\n",
       " 'F': stock__F,\n",
       " 'G': stock__G,\n",
       " 'H': stock__H}"
      ]
     },
     "execution_count": 12,
     "metadata": {},
     "output_type": "execute_result"
    }
   ],
   "source": [
    "# Define Decision Variables\n",
    "x = LpVariable.dicts('stock_', item, lowBound=0, cat='Integer')\n",
    "x"
   ]
  },
  {
   "cell_type": "code",
   "execution_count": 13,
   "metadata": {},
   "outputs": [],
   "source": [
    "# Define Objective Function\n",
    "model += lpSum([prof[i]*x[i] for i in item])"
   ]
  },
  {
   "cell_type": "code",
   "execution_count": 14,
   "metadata": {
    "scrolled": true
   },
   "outputs": [],
   "source": [
    "# Define Constraints\n",
    "model += lpSum([size[i]*x[i] for i in item]) <= 900,'Capacity Cons'\n",
    "model += x['A'] + x['B'] >= 1, 'A or B'\n",
    "model += x['G'] - x['H'] == 0, 'G=H'"
   ]
  },
  {
   "cell_type": "code",
   "execution_count": 15,
   "metadata": {},
   "outputs": [
    {
     "name": "stdout",
     "output_type": "stream",
     "text": [
      "A stock 0.0\n",
      "B stock 2.0\n",
      "C stock 0.0\n",
      "D stock 1.0\n",
      "E stock 254.0\n",
      "F stock 0.0\n",
      "G stock 0.0\n",
      "H stock 0.0\n",
      "The maxmized profit could be £77100.0\n"
     ]
    }
   ],
   "source": [
    "# Solve Model\n",
    "model.solve()\n",
    "\n",
    "for i in item:\n",
    "    print(\"{} stock {}\".format(i, x[i].varValue))\n",
    "\n",
    "print(\"The maxmized profit could be £{}\".\\\n",
    "                format(value(model.objective)))"
   ]
  },
  {
   "cell_type": "markdown",
   "metadata": {},
   "source": [
    "**Exercise 2:** Assume the case study data is from a pizza store optimizing its logistics network across five regions (R1, R2, R3, R4 and R5). The pizza store is considering openning additional stores to cover the demands in these five regions. You are given the daily demand in each region, daily product capacity (small store or large store) of each store, and the delivery cost and fixed costs of building each store(thousands of GBP£).  The ship_cost shows the costs of producing in location i shipping to location j. "
   ]
  },
  {
   "cell_type": "code",
   "execution_count": 16,
   "metadata": {},
   "outputs": [
    {
     "data": {
      "text/html": [
       "<div>\n",
       "<style scoped>\n",
       "    .dataframe tbody tr th:only-of-type {\n",
       "        vertical-align: middle;\n",
       "    }\n",
       "\n",
       "    .dataframe tbody tr th {\n",
       "        vertical-align: top;\n",
       "    }\n",
       "\n",
       "    .dataframe thead th {\n",
       "        text-align: right;\n",
       "    }\n",
       "</style>\n",
       "<table border=\"1\" class=\"dataframe\">\n",
       "  <thead>\n",
       "    <tr style=\"text-align: right;\">\n",
       "      <th></th>\n",
       "      <th>Demand</th>\n",
       "      <th>Low_fix</th>\n",
       "      <th>High_fix</th>\n",
       "      <th>Low_cap</th>\n",
       "      <th>High_cap</th>\n",
       "      <th>R1</th>\n",
       "      <th>R2</th>\n",
       "      <th>R3</th>\n",
       "      <th>R4</th>\n",
       "      <th>R5</th>\n",
       "    </tr>\n",
       "    <tr>\n",
       "      <th>Region</th>\n",
       "      <th></th>\n",
       "      <th></th>\n",
       "      <th></th>\n",
       "      <th></th>\n",
       "      <th></th>\n",
       "      <th></th>\n",
       "      <th></th>\n",
       "      <th></th>\n",
       "      <th></th>\n",
       "      <th></th>\n",
       "    </tr>\n",
       "  </thead>\n",
       "  <tbody>\n",
       "    <tr>\n",
       "      <th>R1</th>\n",
       "      <td>5000</td>\n",
       "      <td>800</td>\n",
       "      <td>1200</td>\n",
       "      <td>2000</td>\n",
       "      <td>6000</td>\n",
       "      <td>5</td>\n",
       "      <td>12</td>\n",
       "      <td>17</td>\n",
       "      <td>8</td>\n",
       "      <td>7</td>\n",
       "    </tr>\n",
       "    <tr>\n",
       "      <th>R2</th>\n",
       "      <td>1800</td>\n",
       "      <td>1250</td>\n",
       "      <td>1650</td>\n",
       "      <td>2000</td>\n",
       "      <td>6000</td>\n",
       "      <td>12</td>\n",
       "      <td>4</td>\n",
       "      <td>10</td>\n",
       "      <td>7</td>\n",
       "      <td>8</td>\n",
       "    </tr>\n",
       "    <tr>\n",
       "      <th>R3</th>\n",
       "      <td>800</td>\n",
       "      <td>900</td>\n",
       "      <td>1450</td>\n",
       "      <td>2000</td>\n",
       "      <td>6000</td>\n",
       "      <td>17</td>\n",
       "      <td>10</td>\n",
       "      <td>3</td>\n",
       "      <td>11</td>\n",
       "      <td>8</td>\n",
       "    </tr>\n",
       "    <tr>\n",
       "      <th>R4</th>\n",
       "      <td>630</td>\n",
       "      <td>650</td>\n",
       "      <td>800</td>\n",
       "      <td>2000</td>\n",
       "      <td>6000</td>\n",
       "      <td>8</td>\n",
       "      <td>7</td>\n",
       "      <td>11</td>\n",
       "      <td>7</td>\n",
       "      <td>18</td>\n",
       "    </tr>\n",
       "    <tr>\n",
       "      <th>R5</th>\n",
       "      <td>490</td>\n",
       "      <td>666</td>\n",
       "      <td>950</td>\n",
       "      <td>2000</td>\n",
       "      <td>6000</td>\n",
       "      <td>7</td>\n",
       "      <td>8</td>\n",
       "      <td>10</td>\n",
       "      <td>18</td>\n",
       "      <td>6</td>\n",
       "    </tr>\n",
       "  </tbody>\n",
       "</table>\n",
       "</div>"
      ],
      "text/plain": [
       "        Demand  Low_fix  High_fix  Low_cap  High_cap  R1  R2  R3  R4  R5\n",
       "Region                                                                  \n",
       "R1        5000      800      1200     2000      6000   5  12  17   8   7\n",
       "R2        1800     1250      1650     2000      6000  12   4  10   7   8\n",
       "R3         800      900      1450     2000      6000  17  10   3  11   8\n",
       "R4         630      650       800     2000      6000   8   7  11   7  18\n",
       "R5         490      666       950     2000      6000   7   8  10  18   6"
      ]
     },
     "execution_count": 16,
     "metadata": {},
     "output_type": "execute_result"
    }
   ],
   "source": [
    "import pandas as pd\n",
    "Data = pd.read_csv(\"PizzaStoreLocation.csv\", index_col='Region')\n",
    "Data"
   ]
  },
  {
   "cell_type": "code",
   "execution_count": 17,
   "metadata": {},
   "outputs": [
    {
     "data": {
      "text/html": [
       "<div>\n",
       "<style scoped>\n",
       "    .dataframe tbody tr th:only-of-type {\n",
       "        vertical-align: middle;\n",
       "    }\n",
       "\n",
       "    .dataframe tbody tr th {\n",
       "        vertical-align: top;\n",
       "    }\n",
       "\n",
       "    .dataframe thead th {\n",
       "        text-align: right;\n",
       "    }\n",
       "</style>\n",
       "<table border=\"1\" class=\"dataframe\">\n",
       "  <thead>\n",
       "    <tr style=\"text-align: right;\">\n",
       "      <th></th>\n",
       "      <th>Low_cap</th>\n",
       "      <th>High_cap</th>\n",
       "    </tr>\n",
       "    <tr>\n",
       "      <th>Region</th>\n",
       "      <th></th>\n",
       "      <th></th>\n",
       "    </tr>\n",
       "  </thead>\n",
       "  <tbody>\n",
       "    <tr>\n",
       "      <th>R1</th>\n",
       "      <td>800</td>\n",
       "      <td>1200</td>\n",
       "    </tr>\n",
       "    <tr>\n",
       "      <th>R2</th>\n",
       "      <td>1250</td>\n",
       "      <td>1650</td>\n",
       "    </tr>\n",
       "    <tr>\n",
       "      <th>R3</th>\n",
       "      <td>900</td>\n",
       "      <td>1450</td>\n",
       "    </tr>\n",
       "    <tr>\n",
       "      <th>R4</th>\n",
       "      <td>650</td>\n",
       "      <td>800</td>\n",
       "    </tr>\n",
       "    <tr>\n",
       "      <th>R5</th>\n",
       "      <td>666</td>\n",
       "      <td>950</td>\n",
       "    </tr>\n",
       "  </tbody>\n",
       "</table>\n",
       "</div>"
      ],
      "text/plain": [
       "        Low_cap  High_cap\n",
       "Region                   \n",
       "R1          800      1200\n",
       "R2         1250      1650\n",
       "R3          900      1450\n",
       "R4          650       800\n",
       "R5          666       950"
      ]
     },
     "execution_count": 17,
     "metadata": {},
     "output_type": "execute_result"
    }
   ],
   "source": [
    "fix_cost = Data[['Low_fix', 'High_fix']]\n",
    "fix_cost.columns=['Low_cap','High_cap']\n",
    "capacity = Data[['Low_cap', 'High_cap']]\n",
    "ship_cost = Data[['R1', 'R2', 'R3','R4', 'R5']]\n",
    "fix_cost"
   ]
  },
  {
   "cell_type": "code",
   "execution_count": 18,
   "metadata": {},
   "outputs": [
    {
     "data": {
      "text/html": [
       "<div>\n",
       "<style scoped>\n",
       "    .dataframe tbody tr th:only-of-type {\n",
       "        vertical-align: middle;\n",
       "    }\n",
       "\n",
       "    .dataframe tbody tr th {\n",
       "        vertical-align: top;\n",
       "    }\n",
       "\n",
       "    .dataframe thead th {\n",
       "        text-align: right;\n",
       "    }\n",
       "</style>\n",
       "<table border=\"1\" class=\"dataframe\">\n",
       "  <thead>\n",
       "    <tr style=\"text-align: right;\">\n",
       "      <th></th>\n",
       "      <th>Low_cap</th>\n",
       "      <th>High_cap</th>\n",
       "    </tr>\n",
       "    <tr>\n",
       "      <th>Region</th>\n",
       "      <th></th>\n",
       "      <th></th>\n",
       "    </tr>\n",
       "  </thead>\n",
       "  <tbody>\n",
       "    <tr>\n",
       "      <th>R1</th>\n",
       "      <td>800</td>\n",
       "      <td>1200</td>\n",
       "    </tr>\n",
       "    <tr>\n",
       "      <th>R2</th>\n",
       "      <td>1250</td>\n",
       "      <td>1650</td>\n",
       "    </tr>\n",
       "    <tr>\n",
       "      <th>R3</th>\n",
       "      <td>900</td>\n",
       "      <td>1450</td>\n",
       "    </tr>\n",
       "    <tr>\n",
       "      <th>R4</th>\n",
       "      <td>650</td>\n",
       "      <td>800</td>\n",
       "    </tr>\n",
       "    <tr>\n",
       "      <th>R5</th>\n",
       "      <td>666</td>\n",
       "      <td>950</td>\n",
       "    </tr>\n",
       "  </tbody>\n",
       "</table>\n",
       "</div>"
      ],
      "text/plain": [
       "        Low_cap  High_cap\n",
       "Region                   \n",
       "R1          800      1200\n",
       "R2         1250      1650\n",
       "R3          900      1450\n",
       "R4          650       800\n",
       "R5          666       950"
      ]
     },
     "execution_count": 18,
     "metadata": {},
     "output_type": "execute_result"
    }
   ],
   "source": [
    "# Rename columns name for later quick access\n",
    "fix_cost.columns=['Low_cap','High_cap']\n",
    "fix_cost"
   ]
  },
  {
   "cell_type": "code",
   "execution_count": 19,
   "metadata": {},
   "outputs": [
    {
     "data": {
      "text/html": [
       "<div>\n",
       "<style scoped>\n",
       "    .dataframe tbody tr th:only-of-type {\n",
       "        vertical-align: middle;\n",
       "    }\n",
       "\n",
       "    .dataframe tbody tr th {\n",
       "        vertical-align: top;\n",
       "    }\n",
       "\n",
       "    .dataframe thead th {\n",
       "        text-align: right;\n",
       "    }\n",
       "</style>\n",
       "<table border=\"1\" class=\"dataframe\">\n",
       "  <thead>\n",
       "    <tr style=\"text-align: right;\">\n",
       "      <th></th>\n",
       "      <th>Low_cap</th>\n",
       "      <th>High_cap</th>\n",
       "    </tr>\n",
       "    <tr>\n",
       "      <th>Region</th>\n",
       "      <th></th>\n",
       "      <th></th>\n",
       "    </tr>\n",
       "  </thead>\n",
       "  <tbody>\n",
       "    <tr>\n",
       "      <th>R1</th>\n",
       "      <td>2000</td>\n",
       "      <td>6000</td>\n",
       "    </tr>\n",
       "    <tr>\n",
       "      <th>R2</th>\n",
       "      <td>2000</td>\n",
       "      <td>6000</td>\n",
       "    </tr>\n",
       "    <tr>\n",
       "      <th>R3</th>\n",
       "      <td>2000</td>\n",
       "      <td>6000</td>\n",
       "    </tr>\n",
       "    <tr>\n",
       "      <th>R4</th>\n",
       "      <td>2000</td>\n",
       "      <td>6000</td>\n",
       "    </tr>\n",
       "    <tr>\n",
       "      <th>R5</th>\n",
       "      <td>2000</td>\n",
       "      <td>6000</td>\n",
       "    </tr>\n",
       "  </tbody>\n",
       "</table>\n",
       "</div>"
      ],
      "text/plain": [
       "        Low_cap  High_cap\n",
       "Region                   \n",
       "R1         2000      6000\n",
       "R2         2000      6000\n",
       "R3         2000      6000\n",
       "R4         2000      6000\n",
       "R5         2000      6000"
      ]
     },
     "execution_count": 19,
     "metadata": {},
     "output_type": "execute_result"
    }
   ],
   "source": [
    "capacity = Data[['Low_cap', 'High_cap']]\n",
    "capacity"
   ]
  },
  {
   "cell_type": "code",
   "execution_count": 20,
   "metadata": {},
   "outputs": [
    {
     "data": {
      "text/html": [
       "<div>\n",
       "<style scoped>\n",
       "    .dataframe tbody tr th:only-of-type {\n",
       "        vertical-align: middle;\n",
       "    }\n",
       "\n",
       "    .dataframe tbody tr th {\n",
       "        vertical-align: top;\n",
       "    }\n",
       "\n",
       "    .dataframe thead th {\n",
       "        text-align: right;\n",
       "    }\n",
       "</style>\n",
       "<table border=\"1\" class=\"dataframe\">\n",
       "  <thead>\n",
       "    <tr style=\"text-align: right;\">\n",
       "      <th></th>\n",
       "      <th>R1</th>\n",
       "      <th>R2</th>\n",
       "      <th>R3</th>\n",
       "      <th>R4</th>\n",
       "      <th>R5</th>\n",
       "    </tr>\n",
       "    <tr>\n",
       "      <th>Region</th>\n",
       "      <th></th>\n",
       "      <th></th>\n",
       "      <th></th>\n",
       "      <th></th>\n",
       "      <th></th>\n",
       "    </tr>\n",
       "  </thead>\n",
       "  <tbody>\n",
       "    <tr>\n",
       "      <th>R1</th>\n",
       "      <td>5</td>\n",
       "      <td>12</td>\n",
       "      <td>17</td>\n",
       "      <td>8</td>\n",
       "      <td>7</td>\n",
       "    </tr>\n",
       "    <tr>\n",
       "      <th>R2</th>\n",
       "      <td>12</td>\n",
       "      <td>4</td>\n",
       "      <td>10</td>\n",
       "      <td>7</td>\n",
       "      <td>8</td>\n",
       "    </tr>\n",
       "    <tr>\n",
       "      <th>R3</th>\n",
       "      <td>17</td>\n",
       "      <td>10</td>\n",
       "      <td>3</td>\n",
       "      <td>11</td>\n",
       "      <td>8</td>\n",
       "    </tr>\n",
       "    <tr>\n",
       "      <th>R4</th>\n",
       "      <td>8</td>\n",
       "      <td>7</td>\n",
       "      <td>11</td>\n",
       "      <td>7</td>\n",
       "      <td>18</td>\n",
       "    </tr>\n",
       "    <tr>\n",
       "      <th>R5</th>\n",
       "      <td>7</td>\n",
       "      <td>8</td>\n",
       "      <td>10</td>\n",
       "      <td>18</td>\n",
       "      <td>6</td>\n",
       "    </tr>\n",
       "  </tbody>\n",
       "</table>\n",
       "</div>"
      ],
      "text/plain": [
       "        R1  R2  R3  R4  R5\n",
       "Region                    \n",
       "R1       5  12  17   8   7\n",
       "R2      12   4  10   7   8\n",
       "R3      17  10   3  11   8\n",
       "R4       8   7  11   7  18\n",
       "R5       7   8  10  18   6"
      ]
     },
     "execution_count": 20,
     "metadata": {},
     "output_type": "execute_result"
    }
   ],
   "source": [
    "ship_cost = Data[['R1', 'R2', 'R3','R4', 'R5']]\n",
    "ship_cost"
   ]
  },
  {
   "cell_type": "code",
   "execution_count": 21,
   "metadata": {},
   "outputs": [
    {
     "data": {
      "text/plain": [
       "7"
      ]
     },
     "execution_count": 21,
     "metadata": {},
     "output_type": "execute_result"
    }
   ],
   "source": [
    "ship_cost.loc['R2','R4']"
   ]
  },
  {
   "cell_type": "code",
   "execution_count": 22,
   "metadata": {},
   "outputs": [
    {
     "name": "stdout",
     "output_type": "stream",
     "text": [
      "Optimal\n",
      "    Delivery  Amount\n",
      "0   R1 to R1  5000.0\n",
      "1   R1 to R2     0.0\n",
      "2   R1 to R3     0.0\n",
      "3   R1 to R4     0.0\n",
      "4   R1 to R5   490.0\n",
      "5   R2 to R1     0.0\n",
      "6   R2 to R2  1800.0\n",
      "7   R2 to R3     0.0\n",
      "8   R2 to R4   630.0\n",
      "9   R2 to R5     0.0\n",
      "10  R3 to R1     0.0\n",
      "11  R3 to R2     0.0\n",
      "12  R3 to R3   800.0\n",
      "13  R3 to R4     0.0\n",
      "14  R3 to R5     0.0\n",
      "15  R4 to R1     0.0\n",
      "16  R4 to R2     0.0\n",
      "17  R4 to R3     0.0\n",
      "18  R4 to R4     0.0\n",
      "19  R4 to R5     0.0\n",
      "20  R5 to R1     0.0\n",
      "21  R5 to R2     0.0\n",
      "22  R5 to R3     0.0\n",
      "23  R5 to R4     0.0\n",
      "24  R5 to R5     0.0\n",
      "  loc  Low_cap  High_cap\n",
      "0  R1      0.0       1.0\n",
      "1  R2      0.0       1.0\n",
      "2  R3      1.0       0.0\n",
      "3  R4      0.0       0.0\n",
      "4  R5      0.0       0.0\n",
      "Total Optimized Costs = £46190.0\n"
     ]
    }
   ],
   "source": [
    "# Initialize model\n",
    "model = LpProblem(\"Pizza_Store_Network_Design\", LpMinimize)\n",
    "loc = ['R1', 'R2', 'R3', 'R4', 'R5']\n",
    "size = ['Low_cap','High_cap']\n",
    "\n",
    "# Define variables\n",
    "x = LpVariable.dicts(\"quantity_\", [(i,j) for i in loc for j in loc],\n",
    "                     lowBound=0, upBound=None, cat='Integer')\n",
    "y = LpVariable.dicts(\"store_\",[(i,s) for s in size for i in loc],\n",
    "                     cat='Binary')\n",
    "\n",
    "# Define objective function\n",
    "model += (lpSum([fix_cost.loc[i,s] * y[(i,s)] \n",
    "                 for s in size for i in loc])\n",
    "          + lpSum([ship_cost.loc[i,j] * x[(i,j)] \n",
    "                   for i in loc for j in loc]))\n",
    "\n",
    "# Define the constraints\n",
    "for j in loc:\n",
    "    model += lpSum([x[(i, j)] for i in loc]) == Data.loc[j,'Demand']\n",
    "for i in loc:\n",
    "    model += lpSum([x[(i, j)] for j in loc]) <= \\\n",
    "                  lpSum([capacity.loc[i,s] * y[(i,s)] for s in size])\n",
    "    \n",
    "# Solve\n",
    "model.solve()\n",
    "# Print model status\n",
    "print(LpStatus[model.status])\n",
    "\n",
    "# Print Solved Store Delivery Options\n",
    "Sol = [{'Delivery':\"{} to {}\".format(i,j), 'Amount':x[(i,j)].varValue}\n",
    "for i in loc for j in loc]\n",
    "print(pd.DataFrame(Sol))\n",
    "\n",
    "# Print Solved Store Openning Options\n",
    "Sol = [{'loc':i, 'Low_cap':y[(i,size[0])].varValue, \n",
    "        'High_cap':y[(i,size[1])].varValue} for i in loc]\n",
    "print(pd.DataFrame(Sol))\n",
    "\n",
    "# Print Total Optimized Costs\n",
    "print(\"Total Optimized Costs = £{}\". format(value(model.objective)))\n"
   ]
  }
 ],
 "metadata": {
  "kernelspec": {
   "display_name": "Python 3",
   "language": "python",
   "name": "python3"
  },
  "language_info": {
   "codemirror_mode": {
    "name": "ipython",
    "version": 3
   },
   "file_extension": ".py",
   "mimetype": "text/x-python",
   "name": "python",
   "nbconvert_exporter": "python",
   "pygments_lexer": "ipython3",
   "version": "3.8.8"
  },
  "latex_envs": {
   "LaTeX_envs_menu_present": true,
   "autoclose": false,
   "autocomplete": true,
   "bibliofile": "biblio.bib",
   "cite_by": "apalike",
   "current_citInitial": 1,
   "eqLabelWithNumbers": true,
   "eqNumInitial": 1,
   "hotkeys": {
    "equation": "Ctrl-E",
    "itemize": "Ctrl-I"
   },
   "labels_anchors": false,
   "latex_user_defs": false,
   "report_style_numbering": false,
   "user_envs_cfg": false
  },
  "toc": {
   "base_numbering": 1,
   "nav_menu": {},
   "number_sections": true,
   "sideBar": true,
   "skip_h1_title": false,
   "title_cell": "Table of Contents",
   "title_sidebar": "Contents",
   "toc_cell": false,
   "toc_position": {},
   "toc_section_display": true,
   "toc_window_display": false
  }
 },
 "nbformat": 4,
 "nbformat_minor": 2
}
